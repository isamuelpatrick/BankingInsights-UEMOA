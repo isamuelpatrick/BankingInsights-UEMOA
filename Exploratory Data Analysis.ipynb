{
 "cells": [
  {
   "cell_type": "code",
   "execution_count": null,
   "id": "96086056-ac45-4ef4-88e7-9d89d8c31255",
   "metadata": {},
   "outputs": [],
   "source": [
    "#importing the necessary libraries \n",
    "import pandas as pd\n",
    "import numpy as np\n",
    "import matplotlib.pyplot as plt\n",
    "import seaborn as sns\n",
    "%matplotlib inline"
   ]
  },
  {
   "cell_type": "code",
   "execution_count": null,
   "id": "8e199e8d-e58e-4f2a-a913-dc7efe64e5bb",
   "metadata": {},
   "outputs": [],
   "source": [
    "#block out warnings\n",
    "import warnings\n",
    "warnings.filterwarnings('ignore')\n",
    "warnings.simplefilter('ignore')"
   ]
  },
  {
   "cell_type": "markdown",
   "id": "31c950b3-5a59-4361-ba0a-9d8e4f61ab82",
   "metadata": {},
   "source": [
    "#### Columns description:\n",
    "\r",
    "\r\n",
    "Countries_Num: Numeric code representing the 8 countries in the West African Economic and Monetary Union (ranges from 1 to 8).\r\n",
    "\r\n",
    "id: An identifier for each bank in the dataset.\r\n",
    "\r\n",
    "Countries: Categorical variable indicating the names of the countries in the West African Economic and Monetary Union.\r\n",
    "\r\n",
    "Banks: Categorical variable representing the names of the banks within the specified countries.\r\n",
    "\r\n",
    "Year: Integer variable indicating the year in which the data was recorded.\r\n",
    "\r\n",
    "RIR (Risk Index Rating): A measure assessing the level of risk associated with financial institutions.\r\n",
    "\r\n",
    "SFS (Solvency and Financial Stability): A metric indicating the financial health and stability of the banks.\r\n",
    "\r\n",
    "INF (Inflation Rate): Represents the inflation rate, a measure of the general rise in prices over a period of time.\r\n",
    "\r\n",
    "ERA (Economic Risk Assessment): An evaluation of the potential economic risks within the banking sector.\r\n",
    "\r\n",
    "INL (Internationalization Level): Indicates the extent to which banks are involved in international activities.\r\n",
    "\r\n",
    "Zscore: A metric used as a measure of a bank's financial health and the likelihood of it going bankrupt in the next two years.\r\n",
    "\r\n",
    "DEBT (Debt Level): Represents the amount of debt held by the banks.\r\n",
    "\r\n",
    "SIZE: Represents the size of the banks, typically measured by total assets or other relevant financial metrics.\r\n",
    "\r\n",
    "CC (Capital Adequacy): A measure of a bank's capital in relation to its risk-weighted assets.\r\n",
    "\r\n",
    "GE (Governance and Ethics): Evaluates the governance practices and ethical standards within the banking institutions.\r\n",
    "\r\n",
    "PS (Profitability and Sustainability): Assesses the profitability and sustainability of the banks.\r\n",
    "\r\n",
    "RQ (Regulatory Compliance): Measures the extent to which banks adhere to regulatory requirements.\r\n",
    "\r\n",
    "RL (Liquidity Risk): Evaluates the risk associated with a bank's ability to meet its short-term obligations.\r\n",
    "\r\n",
    "VA (Value Added): Indicates the value added by the banks to the overall economic environment."
   ]
  },
  {
   "cell_type": "code",
   "execution_count": null,
   "id": "d365f487-8419-4b4d-89b1-54f6a1d86dc2",
   "metadata": {},
   "outputs": [],
   "source": [
    "#loading the dataset\n",
    "uemoa_df = pd.read_csv(\"uemoa_banking.csv\", encoding = 'utf-8')\n",
    "uemoa_df.head()"
   ]
  },
  {
   "cell_type": "code",
   "execution_count": null,
   "id": "33905fa4-09a8-4df6-9710-d3d54069598c",
   "metadata": {},
   "outputs": [],
   "source": [
    "#checking for null values in the dataset\n",
    "uemoa_df.isnull().sum()"
   ]
  },
  {
   "cell_type": "code",
   "execution_count": null,
   "id": "6f001510-2dba-4381-9894-2bcac3219eb4",
   "metadata": {},
   "outputs": [],
   "source": [
    "#shape of the dataset\n",
    "uemoa_df.shape"
   ]
  },
  {
   "cell_type": "code",
   "execution_count": null,
   "id": "a5e2f81e-5674-4fac-9766-babef66ab72f",
   "metadata": {},
   "outputs": [],
   "source": [
    "# Exploring basic statistics\n",
    "metrics = ['RIR', 'SFS', 'INF', 'ERA', 'INL', 'Zscore', 'DEBT', 'SIZE', 'CC', 'GE', 'PS', 'RQ', 'RL', 'VA']\n",
    "uemoa_df[metrics].describe()"
   ]
  },
  {
   "cell_type": "markdown",
   "id": "3289c92c-cdf8-4c29-9088-2931d5ec4a29",
   "metadata": {},
   "source": [
    "## Summary explanation of the basic statistics for the selected metrics:\r\n",
    "\r\n",
    "1. **Risk Index Rating (RIR):**\r\n",
    "   - **Mean (3.71):** On average, the risk index rating for banks in the dataset is moderate.\r\n",
    "   - **Standard Deviation (4.11):** There is a significant variability in risk index ratings, suggesting a diverse risk profile among banks.\r\n",
    "   - **Range (-23.14 to 7.58):** The risk index ratings span a wide range, including negative values, indicating diverse risk levels.\r\n",
    "\r\n",
    "2. **Solvency and Financial Stability (SFS):**\r\n",
    "   - **Mean (31.97):** The average solvency and financial stability score is around 32, indicating a relatively stable financial position.\r\n",
    "   - **Standard Deviation (8.24):** There is moderate variability in solvency and financial stability scores among the banks.\r\n",
    "   - **Range (15.83 to 51.68):** The scores vary between 15.83 and 51.68, showcasing diversity in financial stability.\r\n",
    "\r\n",
    "3. **Inflation Rate (INF):**\r\n",
    "   - **Mean (0.52):** The average inflation rate is relatively low, indicating a generally stable economic environment.\r\n",
    "   - **Standard Deviation (1.27):** There is some variability in inflation rates across the dataset.\r\n",
    "   - **Range (-3.23 to 2.97):** The inflation rates range from negative values to positive values, reflecting economic conditions.\r\n",
    "\r\n",
    "4. **Economic Risk Assessment (ERA):**\r\n",
    "   - **Mean (9.77):** The average economic risk assessment is around 9.77, suggesting a moderate level of economic risk within the banking sector.\r\n",
    "   - **Standard Deviation (18.97):** There is a wide range of economic risk assessments, indicating diverse economic conditions across banks.\r\n",
    "   - **Range (-179.75 to 179.06):** The assessments span a broad range, including negative values, indicating significant economic risk variations.\r\n",
    "\r\n",
    "5. **Internationalization Level (INL):**\r\n",
    "   - **Mean (11.65):** On average, banks have an internationalization level of approximately 11.65, suggesting a moderate involvement in international activities.\r\n",
    "   - **Standard Deviation (10.89):** There is considerable variation in the extent of internationalization among banks.\r\n",
    "   - **Range (0.00 to 79.61):** The internationalization levels vary from zero to relatively high values.\r\n",
    "\r\n",
    "6. **Zscore:**\r\n",
    "   - **Mean (2.97):** The average Z-score is positive, indicating overall financial health.\r\n",
    "   - **Standard Deviation (5.12):** There is considerable variability in Z-scores, suggesting diverse financial health among banks.\r\n",
    "   - **Range (-47.78 to 39.38):** The Z-scores span a wide range, including negative values, indicating potential financial distress for some banks.\r\n",
    "\r\n",
    "7. **Debt Level (DEBT):**\r\n",
    "   - **Mean (38.78):** The average debt level is relatively high at 38.78.\r\n",
    "   - **Standard Deviation (11.66):** There is significant variability in debt levels among banks.\r\n",
    "   - **Range (18.50 to 65.87):** The debt levels vary widely, with some banks having lower debt and others having higher debt.\r\n",
    "\r\n",
    "8. **Size of Banks (SIZE):**\r\n",
    "   - **Mean (12.08):** The average size of banks is around 12.08, suggesting moderate-sized institutions.\r\n",
    "   - **Standard Deviation (1.11):** There is relatively low variability in the size of banks.\r\n",
    "   - **Range (8.68 to 14.58):** The sizes of banks are within a narrow range, indicating a relatively homogeneous distribution.\r\n",
    "\r\n",
    "9. **Capital Adequacy (CC):**\r\n",
    "   - **Mean (37.29):** The average capital adequacy ratio is 37.29, indicating a generally strong capital position.\r\n",
    "   - **Standard Deviation (12.59):** There is notable variability in capital adequacy ratios, suggesting differences in capital strength.\r\n",
    "   - **Range (13.46 to 58.65):** The capital adequacy ratios vary widely, reflecting diverse capital positions.\r\n",
    "\r\n",
    "These summaries provide insights into the central tendency, variability, and distribution of key metrics in the dataset, helping to understand the overall characteristics of the banking sector in the UEMOA countries."
   ]
  },
  {
   "cell_type": "code",
   "execution_count": null,
   "id": "7b624e12-8ce4-4f6a-ba33-d333d76607b2",
   "metadata": {},
   "outputs": [],
   "source": [
    "# Calculate the correlation matrix\n",
    "correlation_matrix = uemoa_df[metrics].corr()\n",
    "\n",
    "# Visualize the correlation matrix\n",
    "plt.figure(figsize=(14, 10))\n",
    "sns.heatmap(correlation_matrix, annot=True, cmap='coolwarm', fmt=\".2f\", linewidths=.5)\n",
    "plt.title('Correlation Matrix')\n",
    "plt.show()\n"
   ]
  },
  {
   "cell_type": "code",
   "execution_count": null,
   "id": "fe86468a-cb35-4561-855f-753532e90832",
   "metadata": {},
   "outputs": [],
   "source": [
    "# Visualize the distribution of selected metrics using boxplots\n",
    "plt.figure(figsize=(16, 10))\n",
    "sns.boxplot(data=uemoa_df[metrics], orient='v')\n",
    "plt.title('Boxplots for selected metrics')\n",
    "plt.show()\n"
   ]
  },
  {
   "cell_type": "markdown",
   "id": "9e0284a9-403d-43be-b5d0-2e75d6222a26",
   "metadata": {},
   "source": [
    "\r\n",
    "- **Economic Risk Assessment (ERA):**\r\n",
    "  - The Economic Risk Assessment metric exhibits the highest number of outliers, both on the positive and negative sides of the box plot. This suggests significant variations in the evaluation of potential economic risks within the banking sector. Outliers may indicate extreme economic conditions in certain years or specific countries, impacting the overall risk assessment.\r\n",
    "\r\n",
    "- **Inflation Rate (INF):**\r\n",
    "  - The Inflation Rate metric shows a few outliers on the positive end of the box plot. These outliers could be attributed to exceptional economic circumstances in specific years or countries, resulting in unusually high inflation rates. It's essential to investigate these instances further to understand the economic factors contributing to the outliers.\r\n",
    "\r\n",
    "- **Zscore:**\r\n",
    "  - Zscore exhibits outliers on both ends of the box plot, with a higher concentration on the positive side. Outliers on the positive side may indicate financial institutions with exceptionally strong financial health, possibly due to robust business strategies or prudent financial management. On the negative side, outliers may highlight banks facing financial challenges, warranting a closer examination of their financial structures.\r\n",
    "\r\n",
    "- **Risk Index Rating (RIR):**\r\n",
    "  - Risk Index Rating displays a few outliers on the negative side of the box plot. These outliers may represent banks with unusually high-risk profiles, potentially influenced by economic downturns, regulatory issues, or other factors. Investigating these outliers can provide insights into specific risks affecting certain banks.\r\n",
    "\r\n",
    "- **Liquidity Risk (RL):**\r\n",
    "  - Liquidity Risk has a few outliers, indicating variations in a bank's ability to meet short-term obligations. Outliers may be linked to specific events such as economic crises or changes in banking regulations. Understanding the circumstances surrounding these outliers is crucial for assessing the liquidity resilience of individual banks.\r\n",
    "\r\n",
    "- **Other Metrics:**\r\n",
    "  - The remaining metrics appear to conform within the box plots, with very few or no outliers. This suggests a general consistency in the values of these metrics across the dataset. Any absence of outliers in these metrics implies a relatively stable and uniform performance within the banking sector for those specific aspects.\r\n",
    "\r\n",
    "By identifying and understanding the outliers in each metric, stakeholders can gain valuable insights into the factors influencing the financial and economic dynamics of the banking institutions in the West African Economic and Monetary Union (UEMOA) countries. Further analysis and contextual information may be required to interpret the outliers accurately."
   ]
  },
  {
   "cell_type": "code",
   "execution_count": null,
   "id": "c0cf3b8c-1d9a-48b3-b718-d612fc5901a8",
   "metadata": {},
   "outputs": [],
   "source": [
    "# Scatter plot of Risk Index Rating (RIR) vs. Size of Banks (SIZE)\n",
    "plt.figure(figsize=(10, 6))\n",
    "sns.scatterplot(data=uemoa_df, x='RIR', y='SIZE', hue='Countries')\n",
    "plt.title('Scatter plot of RIR vs. SIZE')\n",
    "plt.xlabel('Risk Index Rating (RIR)')\n",
    "plt.ylabel('Size of Banks (SIZE)')\n",
    "plt.show()\n"
   ]
  },
  {
   "cell_type": "code",
   "execution_count": null,
   "id": "a631f0e3-ca3a-4729-8f3d-e9641ae1d29d",
   "metadata": {},
   "outputs": [],
   "source": [
    "uemoa_df['Year'].value_counts()"
   ]
  },
  {
   "cell_type": "code",
   "execution_count": null,
   "id": "328f9689-60c1-42e3-be2b-7d1cd9218f09",
   "metadata": {},
   "outputs": [],
   "source": []
  }
 ],
 "metadata": {
  "kernelspec": {
   "display_name": "Python 3 (ipykernel)",
   "language": "python",
   "name": "python3"
  },
  "language_info": {
   "codemirror_mode": {
    "name": "ipython",
    "version": 3
   },
   "file_extension": ".py",
   "mimetype": "text/x-python",
   "name": "python",
   "nbconvert_exporter": "python",
   "pygments_lexer": "ipython3",
   "version": "3.11.5"
  }
 },
 "nbformat": 4,
 "nbformat_minor": 5
}
