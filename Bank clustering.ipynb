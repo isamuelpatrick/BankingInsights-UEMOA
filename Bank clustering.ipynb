{
 "cells": [
  {
   "cell_type": "markdown",
   "id": "6bcff636-d2ce-447f-95d3-8dc5de72fd0b",
   "metadata": {},
   "source": [
    "### Cluster Analysis"
   ]
  },
  {
   "cell_type": "markdown",
   "id": "199d9d0d-f746-4b30-a8d4-7ce45829e307",
   "metadata": {},
   "source": [
    "This notebook details the process of clustering the different financial institutions in the West African Economic and Moetary Union (UEMOA). Initially I thought of clustering the menber countries themselves but given they are just 8 and posses quite a diverse economic landscape, I thought it would be more effectov"
   ]
  }
 ],
 "metadata": {
  "kernelspec": {
   "display_name": "Python 3 (ipykernel)",
   "language": "python",
   "name": "python3"
  },
  "language_info": {
   "codemirror_mode": {
    "name": "ipython",
    "version": 3
   },
   "file_extension": ".py",
   "mimetype": "text/x-python",
   "name": "python",
   "nbconvert_exporter": "python",
   "pygments_lexer": "ipython3",
   "version": "3.11.5"
  }
 },
 "nbformat": 4,
 "nbformat_minor": 5
}
