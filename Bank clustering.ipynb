{
 "cells": [
  {
   "cell_type": "markdown",
   "id": "6bcff636-d2ce-447f-95d3-8dc5de72fd0b",
   "metadata": {},
   "source": [
    "## Cluster Analysis"
   ]
  },
  {
   "cell_type": "markdown",
   "id": "199d9d0d-f746-4b30-a8d4-7ce45829e307",
   "metadata": {},
   "source": [
    "This notebook details the process of clustering the different financial institutions in the West African Economic and Moetary Union (UEMOA). Initially I thought of clustering the menber countries themselves but given they are just 8 and posses quite a diverse economic landscape, I thought it would be more effective if I concentrated efforts on the financial insitutions in the countries themselves."
   ]
  },
  {
   "cell_type": "markdown",
   "id": "547eb8fd-15e3-4745-9c2f-5787bf7831ba",
   "metadata": {},
   "source": [
    "### Goal of the analysis"
   ]
  },
  {
   "cell_type": "markdown",
   "id": "5f8031eb-cbda-4578-86f9-9a9917ae77e3",
   "metadata": {},
   "source": [
    "The goal of the present analysis is to identify resembling credit institutions, which can be included into homogenous groups, according to a series of prudential and profitability indicators. Our study aims to provide an alternative to the peer group \n",
    "techniques, implemented by supervisory authorities in the process of off-site surveillance.\n",
    "\n",
    "According to this technique, credit institutions are, firstly, grouped by size or volume of activity, and then, for each group, are made comparative analyses between the current values of financial indicators and the previous ones. The \n",
    "disadvantage stems from the fact that this method cannot signal the impairment in the financial condition of the whole group, but only the distress of a particular credit institution in that group.\n",
    "\n",
    "Unlike it, cluster analysis, as an exploratory technique, allows the comparisons between all credit institutions in the sample, classifying them into a certain group, according to the similarities identified. The core principle of this technique is that of minimization of the variance between the components of a group, simultaneously with the maximization of the variance across groups. In this way, one can notice the degree of group stability over time."
   ]
  },
  {
   "cell_type": "markdown",
   "id": "59d95d97-eecc-4607-b6f9-90d92af1b79d",
   "metadata": {},
   "source": [
    "### Metrics in the analysis\n",
    "\n",
    "The study is being conducted for the period between 2013 and 2019 with data collected from 106 banks on an annual basis.\n",
    "\n",
    "- Countries_Num: Numeric code representing the 8 countries in the West African Economic and Monetary Union (ranges from 1 to 8).\n",
    "\n",
    "- id: An identifier for each bank in the dataset.\n",
    "\n",
    "- Countries: Categorical variable indicating the names of the countries in the West African Economic and Monetary Union.\n",
    "\n",
    "- Banks: Categorical variable representing the names of the banks within the specified countries.\n",
    "\n",
    "- Year: Integer variable indicating the year in which the data was recorded.\n",
    "\n",
    "- RIR (Risk Index Rating): A measure assessing the level of risk associated with financial institutions.\n",
    "\n",
    "- SFS (Solvency and Financial Stability): A metric indicating the financial health and stability of the banks.\n",
    "\n",
    "- INF (Inflation Rate): Represents the inflation rate, a measure of the general rise in prices over a period of time.\n",
    "\n",
    "- ERA (Economic Risk Assessment): An evaluation of the potential economic risks within the banking sector.\n",
    "\n",
    "- INL (Internationalization Level): Indicates the extent to which banks are involved in international activities.\n",
    "\n",
    "- Zscore: A metric used as a measure of a bank's financial health and the likelihood of it going bankrupt in the next two years.\n",
    "\n",
    "- DEBT (Debt Level): Represents the amount of debt held by the banks.\n",
    "\n",
    "- SIZE: Represents the size of the banks, typically measured by total assets or other relevant financial metrics.\n",
    "\n",
    "- CC (Capital Adequacy): A measure of a bank's capital in relation to its risk-weighted assets.\n",
    "\n",
    "- GE (Governance and Ethics): Evaluates the governance practices and ethical standards within the banking institutions.\n",
    "\n",
    "- PS (Profitability and Sustainability): Assesses the profitability and sustainability of the banks.\n",
    "\n",
    "- RQ (Regulatory Compliance): Measures the extent to which banks adhere to regulatory requirements.\n",
    "\n",
    "- RL (Liquidity Risk): Evaluates the risk associated with a bank's ability to meet its short-term obligations.\n",
    "\n",
    "- VA (Value Added): Indicates the value added by the banks to the overall economic environment."
   ]
  },
  {
   "cell_type": "markdown",
   "id": "a28af942-b0bf-41d1-8ae7-62610bac397f",
   "metadata": {},
   "source": []
  },
  {
   "attachments": {},
   "cell_type": "markdown",
   "id": "226b49dd-34c9-43d9-bad9-5f8085312623",
   "metadata": {},
   "source": [
    "### Analysis Plan"
   ]
  },
  {
   "cell_type": "markdown",
   "id": "53bc0292-0f03-4d99-afaf-0b8a6598e1e7",
   "metadata": {},
   "source": [
    "- Definition of the analysis goal and selecting the most significant variables\n",
    "- Processing the numerical variables for example standardization if there is need\n",
    "- Selecting clustering procedure\n",
    "- Selecting method for data aggregation\n",
    "- Choosing the unit of measure or algorithm for the distance between entities\n",
    "- Identification of optimum number of clusters\n",
    "- Generating the clusters"
   ]
  },
  {
   "cell_type": "code",
   "execution_count": 1,
   "id": "5fa7b4a4-4b91-4077-ac5f-610af094cd06",
   "metadata": {},
   "outputs": [],
   "source": [
    "#loading necessary libraries \n",
    "import pandas as pd\n",
    "import numpy as np\n",
    "import matplotlib.pyplot as plt\n",
    "import seaborn as sns\n",
    "%matplotlib inline"
   ]
  },
  {
   "cell_type": "code",
   "execution_count": 9,
   "id": "9abaaf92-4389-4a60-843e-162ce55659e1",
   "metadata": {},
   "outputs": [],
   "source": [
    "#block out warnings\n",
    "import warnings\n",
    "warnings.filterwarnings('ignore')\n",
    "warnings.simplefilter('ignore')"
   ]
  },
  {
   "cell_type": "code",
   "execution_count": 2,
   "id": "36718ad6-a12c-4cab-862a-bf623b82d735",
   "metadata": {},
   "outputs": [
    {
     "data": {
      "text/html": [
       "<div>\n",
       "<style scoped>\n",
       "    .dataframe tbody tr th:only-of-type {\n",
       "        vertical-align: middle;\n",
       "    }\n",
       "\n",
       "    .dataframe tbody tr th {\n",
       "        vertical-align: top;\n",
       "    }\n",
       "\n",
       "    .dataframe thead th {\n",
       "        text-align: right;\n",
       "    }\n",
       "</style>\n",
       "<table border=\"1\" class=\"dataframe\">\n",
       "  <thead>\n",
       "    <tr style=\"text-align: right;\">\n",
       "      <th></th>\n",
       "      <th>Countries_Num</th>\n",
       "      <th>id</th>\n",
       "      <th>Countries</th>\n",
       "      <th>Banks</th>\n",
       "      <th>Year</th>\n",
       "      <th>RIR</th>\n",
       "      <th>SFS</th>\n",
       "      <th>INF</th>\n",
       "      <th>ERA</th>\n",
       "      <th>INL</th>\n",
       "      <th>Zscore</th>\n",
       "      <th>DEBT</th>\n",
       "      <th>SIZE</th>\n",
       "      <th>CC</th>\n",
       "      <th>GE</th>\n",
       "      <th>PS</th>\n",
       "      <th>RQ</th>\n",
       "      <th>RL</th>\n",
       "      <th>VA</th>\n",
       "    </tr>\n",
       "  </thead>\n",
       "  <tbody>\n",
       "    <tr>\n",
       "      <th>0</th>\n",
       "      <td>1</td>\n",
       "      <td>1</td>\n",
       "      <td>Bénin</td>\n",
       "      <td>Banque Atlantique Bénin</td>\n",
       "      <td>2013</td>\n",
       "      <td>3.836593</td>\n",
       "      <td>26.861971</td>\n",
       "      <td>0.428889</td>\n",
       "      <td>3.196428</td>\n",
       "      <td>12.076596</td>\n",
       "      <td>0.973123</td>\n",
       "      <td>18.503746</td>\n",
       "      <td>12.222694</td>\n",
       "      <td>24.64455</td>\n",
       "      <td>36.96682</td>\n",
       "      <td>58.29384</td>\n",
       "      <td>37.44076</td>\n",
       "      <td>34.27230</td>\n",
       "      <td>55.86855</td>\n",
       "    </tr>\n",
       "    <tr>\n",
       "      <th>1</th>\n",
       "      <td>1</td>\n",
       "      <td>1</td>\n",
       "      <td>Bénin</td>\n",
       "      <td>Banque Atlantique Bénin</td>\n",
       "      <td>2014</td>\n",
       "      <td>5.599992</td>\n",
       "      <td>29.965430</td>\n",
       "      <td>-0.548758</td>\n",
       "      <td>3.045024</td>\n",
       "      <td>8.884912</td>\n",
       "      <td>1.098355</td>\n",
       "      <td>22.282075</td>\n",
       "      <td>12.271219</td>\n",
       "      <td>29.80769</td>\n",
       "      <td>36.05769</td>\n",
       "      <td>47.14286</td>\n",
       "      <td>31.25000</td>\n",
       "      <td>36.05769</td>\n",
       "      <td>57.14286</td>\n",
       "    </tr>\n",
       "  </tbody>\n",
       "</table>\n",
       "</div>"
      ],
      "text/plain": [
       "   Countries_Num  id Countries                    Banks  Year       RIR  \\\n",
       "0              1   1     Bénin  Banque Atlantique Bénin  2013  3.836593   \n",
       "1              1   1     Bénin  Banque Atlantique Bénin  2014  5.599992   \n",
       "\n",
       "         SFS       INF       ERA        INL    Zscore       DEBT       SIZE  \\\n",
       "0  26.861971  0.428889  3.196428  12.076596  0.973123  18.503746  12.222694   \n",
       "1  29.965430 -0.548758  3.045024   8.884912  1.098355  22.282075  12.271219   \n",
       "\n",
       "         CC        GE        PS        RQ        RL        VA  \n",
       "0  24.64455  36.96682  58.29384  37.44076  34.27230  55.86855  \n",
       "1  29.80769  36.05769  47.14286  31.25000  36.05769  57.14286  "
      ]
     },
     "execution_count": 2,
     "metadata": {},
     "output_type": "execute_result"
    }
   ],
   "source": [
    "#loading the data set \n",
    "uemoa_df = pd.read_csv('uemoa_banking.csv')\n",
    "uemoa_df.head(2)"
   ]
  },
  {
   "cell_type": "code",
   "execution_count": 5,
   "id": "239bef2f-2aae-4974-a744-41e4b291a1bd",
   "metadata": {},
   "outputs": [
    {
     "data": {
      "text/plain": [
       "Countries_Num      int64\n",
       "id                 int64\n",
       "Countries         object\n",
       "Banks             object\n",
       "Year               int64\n",
       "RIR              float64\n",
       "SFS              float64\n",
       "INF              float64\n",
       "ERA              float64\n",
       "INL              float64\n",
       "Zscore           float64\n",
       "DEBT             float64\n",
       "SIZE             float64\n",
       "CC               float64\n",
       "GE               float64\n",
       "PS               float64\n",
       "RQ               float64\n",
       "RL               float64\n",
       "VA               float64\n",
       "dtype: object"
      ]
     },
     "execution_count": 5,
     "metadata": {},
     "output_type": "execute_result"
    }
   ],
   "source": [
    "uemoa_df.dtypes"
   ]
  },
  {
   "cell_type": "code",
   "execution_count": 3,
   "id": "3ae895b0-5037-4d48-8594-933f53915b65",
   "metadata": {},
   "outputs": [
    {
     "data": {
      "text/plain": [
       "Index(['Countries_Num', 'id', 'Countries', 'Banks', 'Year', 'RIR', 'SFS',\n",
       "       'INF', 'ERA', 'INL', 'Zscore', 'DEBT', 'SIZE', 'CC', 'GE', 'PS', 'RQ',\n",
       "       'RL', 'VA'],\n",
       "      dtype='object')"
      ]
     },
     "execution_count": 3,
     "metadata": {},
     "output_type": "execute_result"
    }
   ],
   "source": [
    "#list of columns in the dataset\n",
    "uemoa_df.columns"
   ]
  },
  {
   "cell_type": "code",
   "execution_count": 6,
   "id": "58aa29f4-e1fd-4a90-a6f3-5e5bf3c04760",
   "metadata": {},
   "outputs": [
    {
     "data": {
      "text/plain": [
       "Countries_Num    0\n",
       "id               0\n",
       "Countries        0\n",
       "Banks            0\n",
       "Year             0\n",
       "RIR              0\n",
       "SFS              0\n",
       "INF              0\n",
       "ERA              0\n",
       "INL              0\n",
       "Zscore           0\n",
       "DEBT             0\n",
       "SIZE             0\n",
       "CC               0\n",
       "GE               0\n",
       "PS               0\n",
       "RQ               0\n",
       "RL               0\n",
       "VA               0\n",
       "dtype: int64"
      ]
     },
     "execution_count": 6,
     "metadata": {},
     "output_type": "execute_result"
    }
   ],
   "source": [
    "uemoa_df.isnull().sum()"
   ]
  },
  {
   "cell_type": "code",
   "execution_count": 20,
   "id": "abe702a3-8665-4f86-b390-81c2f708c8f8",
   "metadata": {},
   "outputs": [
    {
     "data": {
      "text/plain": [
       "Countries\n",
       " Togo            12\n",
       "Burkina Faso     13\n",
       "Bénin            11\n",
       "Côte d'Ivoire    23\n",
       "GUINEE-BISSAU     3\n",
       "Mali             13\n",
       "Niger            11\n",
       "Sénégal          20\n",
       "Name: Banks, dtype: int64"
      ]
     },
     "execution_count": 20,
     "metadata": {},
     "output_type": "execute_result"
    }
   ],
   "source": [
    "#number of unique banks in the dataset\n",
    "unique_banks_per_country = uemoa_df.groupby('Countries')['Banks'].nunique()\n",
    "unique_banks_per_country"
   ]
  },
  {
   "cell_type": "markdown",
   "id": "5da4ca4a-72c8-4558-9939-1af8f5ae7d1a",
   "metadata": {},
   "source": [
    "**Available metrics for the analysis**"
   ]
  },
  {
   "cell_type": "code",
   "execution_count": 7,
   "id": "ffa342cd-78f3-43c9-9301-3f5392a9da02",
   "metadata": {},
   "outputs": [
    {
     "data": {
      "text/html": [
       "<div>\n",
       "<style scoped>\n",
       "    .dataframe tbody tr th:only-of-type {\n",
       "        vertical-align: middle;\n",
       "    }\n",
       "\n",
       "    .dataframe tbody tr th {\n",
       "        vertical-align: top;\n",
       "    }\n",
       "\n",
       "    .dataframe thead th {\n",
       "        text-align: right;\n",
       "    }\n",
       "</style>\n",
       "<table border=\"1\" class=\"dataframe\">\n",
       "  <thead>\n",
       "    <tr style=\"text-align: right;\">\n",
       "      <th></th>\n",
       "      <th>RIR</th>\n",
       "      <th>SFS</th>\n",
       "      <th>INF</th>\n",
       "      <th>ERA</th>\n",
       "      <th>INL</th>\n",
       "      <th>Zscore</th>\n",
       "      <th>DEBT</th>\n",
       "      <th>SIZE</th>\n",
       "      <th>CC</th>\n",
       "      <th>GE</th>\n",
       "      <th>PS</th>\n",
       "      <th>RQ</th>\n",
       "      <th>RL</th>\n",
       "      <th>VA</th>\n",
       "    </tr>\n",
       "  </thead>\n",
       "  <tbody>\n",
       "    <tr>\n",
       "      <th>0</th>\n",
       "      <td>3.836593</td>\n",
       "      <td>26.861971</td>\n",
       "      <td>0.428889</td>\n",
       "      <td>3.196428</td>\n",
       "      <td>12.076596</td>\n",
       "      <td>0.973123</td>\n",
       "      <td>18.503746</td>\n",
       "      <td>12.222694</td>\n",
       "      <td>24.64455</td>\n",
       "      <td>36.96682</td>\n",
       "      <td>58.29384</td>\n",
       "      <td>37.44076</td>\n",
       "      <td>34.27230</td>\n",
       "      <td>55.86855</td>\n",
       "    </tr>\n",
       "    <tr>\n",
       "      <th>1</th>\n",
       "      <td>5.599992</td>\n",
       "      <td>29.965430</td>\n",
       "      <td>-0.548758</td>\n",
       "      <td>3.045024</td>\n",
       "      <td>8.884912</td>\n",
       "      <td>1.098355</td>\n",
       "      <td>22.282075</td>\n",
       "      <td>12.271219</td>\n",
       "      <td>29.80769</td>\n",
       "      <td>36.05769</td>\n",
       "      <td>47.14286</td>\n",
       "      <td>31.25000</td>\n",
       "      <td>36.05769</td>\n",
       "      <td>57.14286</td>\n",
       "    </tr>\n",
       "    <tr>\n",
       "      <th>2</th>\n",
       "      <td>4.266334</td>\n",
       "      <td>30.984761</td>\n",
       "      <td>0.218786</td>\n",
       "      <td>2.394557</td>\n",
       "      <td>8.583933</td>\n",
       "      <td>0.649069</td>\n",
       "      <td>30.900230</td>\n",
       "      <td>12.511530</td>\n",
       "      <td>33.17308</td>\n",
       "      <td>30.28846</td>\n",
       "      <td>45.23809</td>\n",
       "      <td>30.76923</td>\n",
       "      <td>33.65385</td>\n",
       "      <td>58.62069</td>\n",
       "    </tr>\n",
       "    <tr>\n",
       "      <th>3</th>\n",
       "      <td>4.580100</td>\n",
       "      <td>29.832095</td>\n",
       "      <td>-0.794050</td>\n",
       "      <td>3.712403</td>\n",
       "      <td>5.720476</td>\n",
       "      <td>0.846807</td>\n",
       "      <td>35.923350</td>\n",
       "      <td>12.599141</td>\n",
       "      <td>34.13462</td>\n",
       "      <td>33.65385</td>\n",
       "      <td>47.14286</td>\n",
       "      <td>30.28846</td>\n",
       "      <td>30.76923</td>\n",
       "      <td>60.09852</td>\n",
       "    </tr>\n",
       "    <tr>\n",
       "      <th>4</th>\n",
       "      <td>7.329021</td>\n",
       "      <td>28.630991</td>\n",
       "      <td>1.769412</td>\n",
       "      <td>3.833422</td>\n",
       "      <td>6.256669</td>\n",
       "      <td>0.599062</td>\n",
       "      <td>39.598463</td>\n",
       "      <td>12.706508</td>\n",
       "      <td>33.17308</td>\n",
       "      <td>26.44231</td>\n",
       "      <td>47.14286</td>\n",
       "      <td>33.17308</td>\n",
       "      <td>30.28846</td>\n",
       "      <td>58.12808</td>\n",
       "    </tr>\n",
       "  </tbody>\n",
       "</table>\n",
       "</div>"
      ],
      "text/plain": [
       "        RIR        SFS       INF       ERA        INL    Zscore       DEBT  \\\n",
       "0  3.836593  26.861971  0.428889  3.196428  12.076596  0.973123  18.503746   \n",
       "1  5.599992  29.965430 -0.548758  3.045024   8.884912  1.098355  22.282075   \n",
       "2  4.266334  30.984761  0.218786  2.394557   8.583933  0.649069  30.900230   \n",
       "3  4.580100  29.832095 -0.794050  3.712403   5.720476  0.846807  35.923350   \n",
       "4  7.329021  28.630991  1.769412  3.833422   6.256669  0.599062  39.598463   \n",
       "\n",
       "        SIZE        CC        GE        PS        RQ        RL        VA  \n",
       "0  12.222694  24.64455  36.96682  58.29384  37.44076  34.27230  55.86855  \n",
       "1  12.271219  29.80769  36.05769  47.14286  31.25000  36.05769  57.14286  \n",
       "2  12.511530  33.17308  30.28846  45.23809  30.76923  33.65385  58.62069  \n",
       "3  12.599141  34.13462  33.65385  47.14286  30.28846  30.76923  60.09852  \n",
       "4  12.706508  33.17308  26.44231  47.14286  33.17308  30.28846  58.12808  "
      ]
     },
     "execution_count": 7,
     "metadata": {},
     "output_type": "execute_result"
    }
   ],
   "source": [
    "metrics = ['RIR', 'SFS', 'INF', 'ERA', 'INL', 'Zscore', 'DEBT', 'SIZE', 'CC', 'GE', 'PS', 'RQ', 'RL', 'VA']\n",
    "uemoa_df[metrics].head()"
   ]
  },
  {
   "cell_type": "markdown",
   "id": "bf394ca5-788f-4bfa-8b7b-b668bd284d9f",
   "metadata": {},
   "source": [
    "**Reviewing the data for outliers**"
   ]
  },
  {
   "cell_type": "code",
   "execution_count": 10,
   "id": "780e8776-91ca-459c-9d03-c6b888c48672",
   "metadata": {},
   "outputs": [
    {
     "data": {
      "image/png": "[encoded data removed]",
      "text/plain": [
       "<Figure size 1600x1000 with 1 Axes>"
      ]
     },
     "metadata": {},
     "output_type": "display_data"
    }
   ],
   "source": [
    "# Visualize the distribution of selected metrics using boxplots\n",
    "plt.figure(figsize=(16, 10))\n",
    "sns.boxplot(data=uemoa_df[metrics], orient='v')\n",
    "plt.title('Boxplots for selected metrics')\n",
    "plt.show()"
   ]
  },
  {
   "cell_type": "markdown",
   "id": "03211c17-29d8-4d13-b8dc-f3476fb33ae5",
   "metadata": {},
   "source": [
    "The chart indicates that some of the metrics possess outliers and are not normally distributed so we'll use Z score to standardize the data as it will be more robust and is not as sensitive to extreme values"
   ]
  },
  {
   "cell_type": "markdown",
   "id": "7911d4ce-42af-48ea-87bf-541fe2015802",
   "metadata": {},
   "source": [
    "**Standardizing the data**"
   ]
  },
  {
   "cell_type": "code",
   "execution_count": 16,
   "id": "2c890660-b3a1-4f7d-a67f-f8db65638f1e",
   "metadata": {},
   "outputs": [
    {
     "data": {
      "text/html": [
       "<div>\n",
       "<style scoped>\n",
       "    .dataframe tbody tr th:only-of-type {\n",
       "        vertical-align: middle;\n",
       "    }\n",
       "\n",
       "    .dataframe tbody tr th {\n",
       "        vertical-align: top;\n",
       "    }\n",
       "\n",
       "    .dataframe thead th {\n",
       "        text-align: right;\n",
       "    }\n",
       "</style>\n",
       "<table border=\"1\" class=\"dataframe\">\n",
       "  <thead>\n",
       "    <tr style=\"text-align: right;\">\n",
       "      <th></th>\n",
       "      <th>Countries_Num</th>\n",
       "      <th>id</th>\n",
       "      <th>Countries</th>\n",
       "      <th>Banks</th>\n",
       "      <th>Year</th>\n",
       "      <th>RIR</th>\n",
       "      <th>SFS</th>\n",
       "      <th>INF</th>\n",
       "      <th>ERA</th>\n",
       "      <th>INL</th>\n",
       "      <th>Zscore</th>\n",
       "      <th>DEBT</th>\n",
       "      <th>SIZE</th>\n",
       "      <th>CC</th>\n",
       "      <th>GE</th>\n",
       "      <th>PS</th>\n",
       "      <th>RQ</th>\n",
       "      <th>RL</th>\n",
       "      <th>VA</th>\n",
       "    </tr>\n",
       "  </thead>\n",
       "  <tbody>\n",
       "    <tr>\n",
       "      <th>0</th>\n",
       "      <td>1</td>\n",
       "      <td>1</td>\n",
       "      <td>Bénin</td>\n",
       "      <td>Banque Atlantique Bénin</td>\n",
       "      <td>2013</td>\n",
       "      <td>0.030398</td>\n",
       "      <td>-0.619813</td>\n",
       "      <td>-0.075473</td>\n",
       "      <td>-0.346668</td>\n",
       "      <td>0.038999</td>\n",
       "      <td>-0.389639</td>\n",
       "      <td>-1.739593</td>\n",
       "      <td>0.130214</td>\n",
       "      <td>-1.005347</td>\n",
       "      <td>0.996544</td>\n",
       "      <td>2.335223</td>\n",
       "      <td>0.212167</td>\n",
       "      <td>0.159764</td>\n",
       "      <td>1.337081</td>\n",
       "    </tr>\n",
       "    <tr>\n",
       "      <th>1</th>\n",
       "      <td>1</td>\n",
       "      <td>1</td>\n",
       "      <td>Bénin</td>\n",
       "      <td>Banque Atlantique Bénin</td>\n",
       "      <td>2014</td>\n",
       "      <td>0.459313</td>\n",
       "      <td>-0.242886</td>\n",
       "      <td>-0.846236</td>\n",
       "      <td>-0.354656</td>\n",
       "      <td>-0.254408</td>\n",
       "      <td>-0.365178</td>\n",
       "      <td>-1.415444</td>\n",
       "      <td>0.173776</td>\n",
       "      <td>-0.594954</td>\n",
       "      <td>0.907887</td>\n",
       "      <td>1.578303</td>\n",
       "      <td>-0.441714</td>\n",
       "      <td>0.335980</td>\n",
       "      <td>1.452254</td>\n",
       "    </tr>\n",
       "    <tr>\n",
       "      <th>2</th>\n",
       "      <td>1</td>\n",
       "      <td>1</td>\n",
       "      <td>Bénin</td>\n",
       "      <td>Banque Atlantique Bénin</td>\n",
       "      <td>2015</td>\n",
       "      <td>0.134925</td>\n",
       "      <td>-0.119084</td>\n",
       "      <td>-0.241115</td>\n",
       "      <td>-0.388977</td>\n",
       "      <td>-0.282077</td>\n",
       "      <td>-0.452934</td>\n",
       "      <td>-0.676080</td>\n",
       "      <td>0.389507</td>\n",
       "      <td>-0.327455</td>\n",
       "      <td>0.345281</td>\n",
       "      <td>1.449009</td>\n",
       "      <td>-0.492493</td>\n",
       "      <td>0.098724</td>\n",
       "      <td>1.585820</td>\n",
       "    </tr>\n",
       "    <tr>\n",
       "      <th>3</th>\n",
       "      <td>1</td>\n",
       "      <td>1</td>\n",
       "      <td>Bénin</td>\n",
       "      <td>Banque Atlantique Bénin</td>\n",
       "      <td>2016</td>\n",
       "      <td>0.211243</td>\n",
       "      <td>-0.259080</td>\n",
       "      <td>-1.039621</td>\n",
       "      <td>-0.319443</td>\n",
       "      <td>-0.545310</td>\n",
       "      <td>-0.414311</td>\n",
       "      <td>-0.245139</td>\n",
       "      <td>0.468157</td>\n",
       "      <td>-0.251027</td>\n",
       "      <td>0.673468</td>\n",
       "      <td>1.578303</td>\n",
       "      <td>-0.543273</td>\n",
       "      <td>-0.185985</td>\n",
       "      <td>1.719387</td>\n",
       "    </tr>\n",
       "    <tr>\n",
       "      <th>4</th>\n",
       "      <td>1</td>\n",
       "      <td>1</td>\n",
       "      <td>Bénin</td>\n",
       "      <td>Banque Atlantique Bénin</td>\n",
       "      <td>2017</td>\n",
       "      <td>0.879869</td>\n",
       "      <td>-0.404959</td>\n",
       "      <td>0.981377</td>\n",
       "      <td>-0.313058</td>\n",
       "      <td>-0.496019</td>\n",
       "      <td>-0.462702</td>\n",
       "      <td>0.070154</td>\n",
       "      <td>0.564543</td>\n",
       "      <td>-0.327455</td>\n",
       "      <td>-0.029789</td>\n",
       "      <td>1.578303</td>\n",
       "      <td>-0.238594</td>\n",
       "      <td>-0.233437</td>\n",
       "      <td>1.541298</td>\n",
       "    </tr>\n",
       "  </tbody>\n",
       "</table>\n",
       "</div>"
      ],
      "text/plain": [
       "   Countries_Num  id Countries                    Banks  Year       RIR  \\\n",
       "0              1   1     Bénin  Banque Atlantique Bénin  2013  0.030398   \n",
       "1              1   1     Bénin  Banque Atlantique Bénin  2014  0.459313   \n",
       "2              1   1     Bénin  Banque Atlantique Bénin  2015  0.134925   \n",
       "3              1   1     Bénin  Banque Atlantique Bénin  2016  0.211243   \n",
       "4              1   1     Bénin  Banque Atlantique Bénin  2017  0.879869   \n",
       "\n",
       "        SFS       INF       ERA       INL    Zscore      DEBT      SIZE  \\\n",
       "0 -0.619813 -0.075473 -0.346668  0.038999 -0.389639 -1.739593  0.130214   \n",
       "1 -0.242886 -0.846236 -0.354656 -0.254408 -0.365178 -1.415444  0.173776   \n",
       "2 -0.119084 -0.241115 -0.388977 -0.282077 -0.452934 -0.676080  0.389507   \n",
       "3 -0.259080 -1.039621 -0.319443 -0.545310 -0.414311 -0.245139  0.468157   \n",
       "4 -0.404959  0.981377 -0.313058 -0.496019 -0.462702  0.070154  0.564543   \n",
       "\n",
       "         CC        GE        PS        RQ        RL        VA  \n",
       "0 -1.005347  0.996544  2.335223  0.212167  0.159764  1.337081  \n",
       "1 -0.594954  0.907887  1.578303 -0.441714  0.335980  1.452254  \n",
       "2 -0.327455  0.345281  1.449009 -0.492493  0.098724  1.585820  \n",
       "3 -0.251027  0.673468  1.578303 -0.543273 -0.185985  1.719387  \n",
       "4 -0.327455 -0.029789  1.578303 -0.238594 -0.233437  1.541298  "
      ]
     },
     "execution_count": 16,
     "metadata": {},
     "output_type": "execute_result"
    }
   ],
   "source": [
    "from sklearn.preprocessing import StandardScaler\n",
    "\n",
    "# Initialize the StandardScaler\n",
    "scaler = StandardScaler()\n",
    "\n",
    "# Fit and transform the selected features\n",
    "standardized_features = scaler.fit_transform(uemoa_df[metrics])\n",
    "\n",
    "# Replace the original features with the standardized ones in your dataset\n",
    "uemoa_df[['RIR', 'SFS', 'INF', 'ERA', 'INL', 'Zscore',\n",
    "          'DEBT', 'SIZE', 'CC', 'GE', 'PS', 'RQ', 'RL', 'VA']] = standardized_features\n",
    "uemoa_df.head()"
   ]
  },
  {
   "cell_type": "markdown",
   "id": "7f321547-4781-4361-a78d-602f65db7f31",
   "metadata": {},
   "source": [
    "#### Handling of outliers"
   ]
  },
  {
   "cell_type": "markdown",
   "id": "b22a8ecd-196b-44ad-ab00-b30597f25ed0",
   "metadata": {},
   "source": [
    "During exploratory data analysis (EDA), I discovered that most of the outliers in the data could be explained by changes in the security, political or economic landscape of particular countries in the UEMOA block. These occurences are not rare or new and history suggests the chances of these events occuring can not be ignored.\n",
    "\n",
    "For that reason eliminating the outliers or even reducing their impact risks creating a big divide between the theory of the analysis and the practicality of the financial landscape in the UEMOA countries. However, leaving them as they are can also present an unrealistic view beacuse of the ectremity of some of the ouliers.\n",
    "Perhaps the best course of action is to perform senstivity analysis to assess how different treatments of outliers impact the results. So we'll consider the treatments below;\n",
    "\n",
    "\r\n",
    "1. **Not Treating Outliers at All:**\r\n",
    "   - **Advantages:**\r\n",
    "     - Preserves the original data, allowing for a more accurate representation of extreme events.\r\n",
    "     - Maintains the real-world context and practicality of the financial landscape.\r\n",
    "   - **Considerations:**\r\n",
    "     - The impact of extreme values may dominate the analysis, affecting the interpretability of results.\r\n",
    "     - Sensitivity to outliers may vary across clustering algorithms.\r\n",
    "\r\n",
    "2. **Winsorizing:**\r\n",
    "   - **Advantages:**\r\n",
    "     - Mitigates the influence of extreme values by capping them at a certain percentile.\r\n",
    "     - Maintains a degree of realism while reducing the impact of outliers.\r\n",
    "   - **Considerations:**\r\n",
    "     - Choosing an appropriate percentile for Winsorization may require careful consideration.\r\n",
    "     - It may not be suitable if outliers provide critical insights into the financial landscape.\r\n",
    "\r\n",
    "3. **Using a Log Scale:**\r\n",
    "   - **Advantages:**\r\n",
    "     - Log transformation can compress the range of extreme values, making the distribution more symmetric.\r\n",
    "     - Useful for data with a positive skewness.\r\n",
    "   - **Considerations:**\r\n",
    "     - Appropriate for metrics with positive values; not suitable for zero or negative values.\r\n",
    "     - May not fully address extreme values in cases of high variability.\r\n",
    "\r\n",
    "4. **Outlier Labeling:**\r\n",
    "   - **Advantages:**\r\n",
    "     - Recognizes and distinguishes outliers as a separate category.\r\n",
    "     - Allows for the inclusion of extreme events without directly influencing clustering.\r\n",
    "   - **Considerations:**\r\n",
    "     - Interpretation becomes critical, and the impact of outliers needs to be assessed in the context of the analysis.\r\n",
    "     - Some clustering algorithms may not handle labeled outliers effectively.\r\n",
    "\r\n",
    "5. **Eliminating Outliers:**\r\n",
    "   - **Advantages:**\r\n",
    "     - Provides a clean dataset for clustering, reducing the influence of extreme values.\r\n",
    "     - May enhance the interpretability of clusters.\r\n",
    "   - **Considerations:**\r\n",
    "     - Loss of potentially valuable information about extreme events.\r\n",
    "     - The potential for a divide between the theoretical analysi\n",
    "    \n",
    "Given the context of the financial landscape in UEMOA countries, outlier labeling aligns well with the goal of capturing and understanding extreme events without completely removing them from the analysis. However, it's important to conduct sensitivity analyses and carefully interpret the results to ensure that the labeled outliers contribute meaningfully to the overall insights.l strengthen the credibility of your findings."
   ]
  },
  {
   "cell_type": "markdown",
   "id": "733269b3-faf1-4ccc-85e2-44719b985698",
   "metadata": {},
   "source": [
    "### Labeling of Outliers"
   ]
  },
  {
   "cell_type": "markdown",
   "id": "5e9ace24-e77f-4326-a52d-38002af1ba5c",
   "metadata": {},
   "source": [
    "Display standardized boxplot"
   ]
  },
  {
   "cell_type": "code",
   "execution_count": 22,
   "id": "156b965f-485d-4a12-9974-d40fd992081a",
   "metadata": {},
   "outputs": [
    {
     "data": {
      "image/png": "[encoded data removed]",
      "text/plain": [
       "<Figure size 1600x1000 with 1 Axes>"
      ]
     },
     "metadata": {},
     "output_type": "display_data"
    }
   ],
   "source": [
    "# Visualize the distribution of selected metrics using boxplots\n",
    "plt.figure(figsize=(16, 10))\n",
    "sns.boxplot(data=uemoa_df[metrics], orient='v')\n",
    "plt.title('Boxplots for selected metrics')\n",
    "plt.show()"
   ]
  },
  {
   "cell_type": "markdown",
   "id": "6c6d220c-6b63-4a69-b4ca-4ac199f6a5aa",
   "metadata": {},
   "source": [
    "Assigning thresholds to metrics"
   ]
  },
  {
   "cell_type": "code",
   "execution_count": 35,
   "id": "dd600acd-ff8d-45c4-809c-0116a0fde8f0",
   "metadata": {},
   "outputs": [
    {
     "data": {
      "text/html": [
       "<div>\n",
       "<style scoped>\n",
       "    .dataframe tbody tr th:only-of-type {\n",
       "        vertical-align: middle;\n",
       "    }\n",
       "\n",
       "    .dataframe tbody tr th {\n",
       "        vertical-align: top;\n",
       "    }\n",
       "\n",
       "    .dataframe thead th {\n",
       "        text-align: right;\n",
       "    }\n",
       "</style>\n",
       "<table border=\"1\" class=\"dataframe\">\n",
       "  <thead>\n",
       "    <tr style=\"text-align: right;\">\n",
       "      <th></th>\n",
       "      <th>Countries</th>\n",
       "      <th>Banks</th>\n",
       "      <th>RIR</th>\n",
       "      <th>INF</th>\n",
       "      <th>ERA</th>\n",
       "      <th>INL</th>\n",
       "      <th>Zscore</th>\n",
       "      <th>RL</th>\n",
       "      <th>Outlier_Label</th>\n",
       "    </tr>\n",
       "  </thead>\n",
       "  <tbody>\n",
       "    <tr>\n",
       "      <th>0</th>\n",
       "      <td>Bénin</td>\n",
       "      <td>Banque Atlantique Bénin</td>\n",
       "      <td>0.030398</td>\n",
       "      <td>-0.075473</td>\n",
       "      <td>-0.346668</td>\n",
       "      <td>0.038999</td>\n",
       "      <td>-0.389639</td>\n",
       "      <td>0.159764</td>\n",
       "      <td>Not Outlier</td>\n",
       "    </tr>\n",
       "    <tr>\n",
       "      <th>1</th>\n",
       "      <td>Bénin</td>\n",
       "      <td>Banque Atlantique Bénin</td>\n",
       "      <td>0.459313</td>\n",
       "      <td>-0.846236</td>\n",
       "      <td>-0.354656</td>\n",
       "      <td>-0.254408</td>\n",
       "      <td>-0.365178</td>\n",
       "      <td>0.335980</td>\n",
       "      <td>Not Outlier</td>\n",
       "    </tr>\n",
       "    <tr>\n",
       "      <th>2</th>\n",
       "      <td>Bénin</td>\n",
       "      <td>Banque Atlantique Bénin</td>\n",
       "      <td>0.134925</td>\n",
       "      <td>-0.241115</td>\n",
       "      <td>-0.388977</td>\n",
       "      <td>-0.282077</td>\n",
       "      <td>-0.452934</td>\n",
       "      <td>0.098724</td>\n",
       "      <td>Not Outlier</td>\n",
       "    </tr>\n",
       "    <tr>\n",
       "      <th>3</th>\n",
       "      <td>Bénin</td>\n",
       "      <td>Banque Atlantique Bénin</td>\n",
       "      <td>0.211243</td>\n",
       "      <td>-1.039621</td>\n",
       "      <td>-0.319443</td>\n",
       "      <td>-0.545310</td>\n",
       "      <td>-0.414311</td>\n",
       "      <td>-0.185985</td>\n",
       "      <td>Not Outlier</td>\n",
       "    </tr>\n",
       "    <tr>\n",
       "      <th>4</th>\n",
       "      <td>Bénin</td>\n",
       "      <td>Banque Atlantique Bénin</td>\n",
       "      <td>0.879869</td>\n",
       "      <td>0.981377</td>\n",
       "      <td>-0.313058</td>\n",
       "      <td>-0.496019</td>\n",
       "      <td>-0.462702</td>\n",
       "      <td>-0.233437</td>\n",
       "      <td>Not Outlier</td>\n",
       "    </tr>\n",
       "    <tr>\n",
       "      <th>...</th>\n",
       "      <td>...</td>\n",
       "      <td>...</td>\n",
       "      <td>...</td>\n",
       "      <td>...</td>\n",
       "      <td>...</td>\n",
       "      <td>...</td>\n",
       "      <td>...</td>\n",
       "      <td>...</td>\n",
       "      <td>...</td>\n",
       "    </tr>\n",
       "    <tr>\n",
       "      <th>737</th>\n",
       "      <td>Togo</td>\n",
       "      <td>Union Togolaise de Banque</td>\n",
       "      <td>-0.509179</td>\n",
       "      <td>1.623512</td>\n",
       "      <td>-0.261709</td>\n",
       "      <td>-0.690562</td>\n",
       "      <td>-0.313455</td>\n",
       "      <td>-0.945208</td>\n",
       "      <td>Not Outlier</td>\n",
       "    </tr>\n",
       "    <tr>\n",
       "      <th>738</th>\n",
       "      <td>Togo</td>\n",
       "      <td>Union Togolaise de Banque</td>\n",
       "      <td>-6.530678</td>\n",
       "      <td>0.599668</td>\n",
       "      <td>-0.321449</td>\n",
       "      <td>0.040352</td>\n",
       "      <td>0.179932</td>\n",
       "      <td>-0.233437</td>\n",
       "      <td>Negative Outlier</td>\n",
       "    </tr>\n",
       "    <tr>\n",
       "      <th>739</th>\n",
       "      <td>Togo</td>\n",
       "      <td>Union Togolaise de Banque</td>\n",
       "      <td>0.459058</td>\n",
       "      <td>-1.186449</td>\n",
       "      <td>-0.623237</td>\n",
       "      <td>-0.665835</td>\n",
       "      <td>-0.934293</td>\n",
       "      <td>-0.755402</td>\n",
       "      <td>Negative Outlier</td>\n",
       "    </tr>\n",
       "    <tr>\n",
       "      <th>740</th>\n",
       "      <td>Togo</td>\n",
       "      <td>Union Togolaise de Banque</td>\n",
       "      <td>-1.242547</td>\n",
       "      <td>0.318154</td>\n",
       "      <td>-0.885590</td>\n",
       "      <td>-0.641248</td>\n",
       "      <td>-1.045439</td>\n",
       "      <td>-0.328340</td>\n",
       "      <td>Negative Outlier</td>\n",
       "    </tr>\n",
       "    <tr>\n",
       "      <th>741</th>\n",
       "      <td>Togo</td>\n",
       "      <td>Union Togolaise de Banque</td>\n",
       "      <td>-1.481216</td>\n",
       "      <td>0.127149</td>\n",
       "      <td>-0.679145</td>\n",
       "      <td>-0.923794</td>\n",
       "      <td>-0.472286</td>\n",
       "      <td>-0.423242</td>\n",
       "      <td>Negative Outlier</td>\n",
       "    </tr>\n",
       "  </tbody>\n",
       "</table>\n",
       "<p>742 rows × 9 columns</p>\n",
       "</div>"
      ],
      "text/plain": [
       "    Countries                      Banks       RIR       INF       ERA  \\\n",
       "0       Bénin    Banque Atlantique Bénin  0.030398 -0.075473 -0.346668   \n",
       "1       Bénin    Banque Atlantique Bénin  0.459313 -0.846236 -0.354656   \n",
       "2       Bénin    Banque Atlantique Bénin  0.134925 -0.241115 -0.388977   \n",
       "3       Bénin    Banque Atlantique Bénin  0.211243 -1.039621 -0.319443   \n",
       "4       Bénin    Banque Atlantique Bénin  0.879869  0.981377 -0.313058   \n",
       "..        ...                        ...       ...       ...       ...   \n",
       "737      Togo  Union Togolaise de Banque -0.509179  1.623512 -0.261709   \n",
       "738      Togo  Union Togolaise de Banque -6.530678  0.599668 -0.321449   \n",
       "739      Togo  Union Togolaise de Banque  0.459058 -1.186449 -0.623237   \n",
       "740      Togo  Union Togolaise de Banque -1.242547  0.318154 -0.885590   \n",
       "741      Togo  Union Togolaise de Banque -1.481216  0.127149 -0.679145   \n",
       "\n",
       "          INL    Zscore        RL     Outlier_Label  \n",
       "0    0.038999 -0.389639  0.159764       Not Outlier  \n",
       "1   -0.254408 -0.365178  0.335980       Not Outlier  \n",
       "2   -0.282077 -0.452934  0.098724       Not Outlier  \n",
       "3   -0.545310 -0.414311 -0.185985       Not Outlier  \n",
       "4   -0.496019 -0.462702 -0.233437       Not Outlier  \n",
       "..        ...       ...       ...               ...  \n",
       "737 -0.690562 -0.313455 -0.945208       Not Outlier  \n",
       "738  0.040352  0.179932 -0.233437  Negative Outlier  \n",
       "739 -0.665835 -0.934293 -0.755402  Negative Outlier  \n",
       "740 -0.641248 -1.045439 -0.328340  Negative Outlier  \n",
       "741 -0.923794 -0.472286 -0.423242  Negative Outlier  \n",
       "\n",
       "[742 rows x 9 columns]"
      ]
     },
     "metadata": {},
     "output_type": "display_data"
    }
   ],
   "source": [
    "# Define thresholds for positive and negative outliers for each metric\n",
    "thresholds = {\n",
    "    'RIR': {'positive': 1.0, 'negative': -1.0},\n",
    "    'INF': {'positive': 2.0, 'negative': -1.5},\n",
    "    'ERA': {'positive': 0.6, 'negative': -0.4},\n",
    "    'INL': {'positive': 0.85, 'negative': -0.8},\n",
    "    'Zscore': {'positive': 0.5, 'negative': -0.5},\n",
    "    'RL': {'positive': 1.0, 'negative': -2.0},\n",
    "}\n",
    "\n",
    "# Create a new column 'Outlier_Label' and initialize it with 'Not Outlier'\n",
    "uemoa_df['Outlier_Label'] = 'Not Outlier'\n",
    "\n",
    "# Assign 'Outlier' label based on positive and negative thresholds for each metric\n",
    "for metric, threshold_values in thresholds.items():\n",
    "    positive_outlier_criteria = uemoa_df[metric] > threshold_values['positive']\n",
    "    negative_outlier_criteria = uemoa_df[metric] < threshold_values['negative']\n",
    "\n",
    "    uemoa_df.loc[positive_outlier_criteria, 'Outlier_Label'] = 'Positive Outlier'\n",
    "    uemoa_df.loc[negative_outlier_criteria, 'Outlier_Label'] = 'Negative Outlier'\n",
    "\n",
    "# Display the updated DataFrame\n",
    "display(uemoa_df[['Countries', 'Banks', 'RIR', 'INF','ERA', 'INL', 'Zscore', 'RL', 'Outlier_Label']])\n"
   ]
  },
  {
   "cell_type": "markdown",
   "id": "f9e32b6c-418e-4b4a-a947-f58efb5c4326",
   "metadata": {},
   "source": [
    "### Checking the metrics for correlation "
   ]
  },
  {
   "cell_type": "code",
   "execution_count": 40,
   "id": "5eeb744d-52f5-4c9a-b0df-ec7ad2936715",
   "metadata": {},
   "outputs": [
    {
     "data": {
      "image/png": "[encoded data removed]",
      "text/plain": [
       "<Figure size 1200x800 with 2 Axes>"
      ]
     },
     "metadata": {},
     "output_type": "display_data"
    }
   ],
   "source": [
    "# calculate the correlation matrix\n",
    "correlation_matrix = uemoa_df[metrics].corr()\n",
    "\n",
    "# visualize the correlation matrix\n",
    "plt.figure(figsize=(12, 8))\n",
    "sns.heatmap(correlation_matrix, annot = True, cmap='coolwarm', fmt=\".2f\", linewidths = 0.5)\n",
    "plt.title('Correlation Matrix')\n",
    "plt.show()"
   ]
  },
  {
   "cell_type": "markdown",
   "id": "1282dab8-1377-4514-a72c-aec84fc8b586",
   "metadata": {},
   "source": [
    "Have decided to exclude from our metrics those variables that show a high correlation with other variables to avoid biased \n",
    "results"
   ]
  },
  {
   "cell_type": "code",
   "execution_count": 46,
   "id": "4d46d500-ac05-4a23-b520-f2a70ee35b17",
   "metadata": {},
   "outputs": [
    {
     "name": "stdout",
     "output_type": "stream",
     "text": [
      "Highly Correlated Variables:\n",
      "('ERA', 'Zscore')\n",
      "('Zscore', 'ERA')\n",
      "('CC', 'RQ')\n",
      "('CC', 'RL')\n",
      "('GE', 'RQ')\n",
      "('GE', 'RL')\n",
      "('GE', 'VA')\n",
      "('RQ', 'CC')\n",
      "('RQ', 'GE')\n",
      "('RQ', 'RL')\n",
      "('RL', 'CC')\n",
      "('RL', 'GE')\n",
      "('RL', 'RQ')\n",
      "('VA', 'GE')\n"
     ]
    }
   ],
   "source": [
    "# Identify highly correlated pairs\n",
    "high_corr_pairs = (correlation_matrix.abs() > 0.8) & (correlation_matrix < 1.0)\n",
    "\n",
    "# Get the names of the highly correlated variables\n",
    "high_corr_variables = [(var1, var2) for var1 in correlation_matrix.columns\n",
    "                       for var2 in correlation_matrix.columns\n",
    "                       if high_corr_pairs.loc[var1, var2]]\n",
    "print(\"Highly Correlated Variables:\")\n",
    "for pair in high_corr_variables:\n",
    "    print(pair)"
   ]
  },
  {
   "cell_type": "code",
   "execution_count": 51,
   "id": "002b1761-2da7-482d-9e60-55e04c2cfd14",
   "metadata": {},
   "outputs": [
    {
     "data": {
      "text/plain": [
       "Index(['Countries_Num', 'id', 'Countries', 'Banks', 'Year', 'RIR', 'SFS',\n",
       "       'INF', 'INL', 'Zscore', 'DEBT', 'SIZE', 'CC', 'PS', 'VA',\n",
       "       'Outlier_Label'],\n",
       "      dtype='object')"
      ]
     },
     "execution_count": 51,
     "metadata": {},
     "output_type": "execute_result"
    }
   ],
   "source": [
    "to_remove = ['ERA', 'RQ', 'RL', 'GE']\n",
    "# removing highly correlated variables\n",
    "uemoa_df_filtered = uemoa_df.drop(columns=to_remove)\n",
    "# display remaining metrics\n",
    "uemoa_df_filtered.columns"
   ]
  },
  {
   "cell_type": "code",
   "execution_count": 53,
   "id": "681e60ae-03bd-47c6-ab86-240245bebabc",
   "metadata": {},
   "outputs": [
    {
     "data": {
      "image/png": "[encoded data removed]",
      "text/plain": [
       "<Figure size 1200x800 with 2 Axes>"
      ]
     },
     "metadata": {},
     "output_type": "display_data"
    }
   ],
   "source": [
    "# Checking for remaining correlations\n",
    "filtered_metrics = ['RIR', 'SFS', 'INF', 'INL', 'Zscore', 'DEBT', 'SIZE', 'CC', 'PS', 'VA']\n",
    "remaining_correlations = uemoa_df_filtered[filtered_metrics].corr()\n",
    "\n",
    "# Display the correlation matrix\n",
    "plt.figure(figsize=(12, 8))\n",
    "sns.heatmap(remaining_correlations, cmap='coolwarm', annot=True, fmt='.2f', linewidths=0.5)\n",
    "plt.title('Filtered Correlation Matrix')\n",
    "plt.show()\n"
   ]
  },
  {
   "cell_type": "code",
   "execution_count": 55,
   "id": "01cf3dc5-2528-4c5d-96cb-8ed1316a03d6",
   "metadata": {},
   "outputs": [
    {
     "name": "stdout",
     "output_type": "stream",
     "text": [
      "Highly Correlated Variables:\n",
      "('SFS', 'DEBT')\n",
      "('DEBT', 'SFS')\n",
      "('CC', 'VA')\n",
      "('VA', 'CC')\n"
     ]
    }
   ],
   "source": [
    "# Identify highly correlated pairs\n",
    "high_corr_pairs = (remaining_correlations.abs() > 0.7) & (remaining_correlations < 1.0)\n",
    "\n",
    "# Get the names of the highly correlated variables\n",
    "high_corr_variables = [(var1, var2) for var1 in remaining_correlations.columns\n",
    "                       for var2 in remaining_correlations.columns\n",
    "                       if high_corr_pairs.loc[var1, var2]]\n",
    "print(\"Highly Correlated Variables:\")\n",
    "for pair in high_corr_variables:\n",
    "    print(pair)"
   ]
  },
  {
   "cell_type": "code",
   "execution_count": null,
   "id": "35912b97-57c0-4759-98be-55938c893ae8",
   "metadata": {},
   "outputs": [],
   "source": []
  }
 ],
 "metadata": {
  "kernelspec": {
   "display_name": "Python 3 (ipykernel)",
   "language": "python",
   "name": "python3"
  },
  "language_info": {
   "codemirror_mode": {
    "name": "ipython",
    "version": 3
   },
   "file_extension": ".py",
   "mimetype": "text/x-python",
   "name": "python",
   "nbconvert_exporter": "python",
   "pygments_lexer": "ipython3",
   "version": "3.11.5"
  }
 },
 "nbformat": 4,
 "nbformat_minor": 5
}
